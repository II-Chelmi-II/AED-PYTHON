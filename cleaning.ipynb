{
 "cells": [
  {
   "cell_type": "code",
   "execution_count": 1,
   "metadata": {},
   "outputs": [
    {
     "name": "stdout",
     "output_type": "stream",
     "text": [
      "Données nettoyées et transformées sauvegardées dans 'pollution_data_cleaned.csv'\n"
     ]
    }
   ],
   "source": [
    "import pandas as pd\n",
    "import os\n",
    "\n",
    "# Charger les données collectées\n",
    "folder = 'pollution_data'\n",
    "file_list = [os.path.join(folder, f) for f in os.listdir(folder) if f.endswith('.csv')]\n",
    "\n",
    "# Combiner tous les fichiers CSV en un seul DataFrame\n",
    "df_list = [pd.read_csv(file) for file in file_list]\n",
    "df = pd.concat(df_list, ignore_index=True)\n",
    "\n",
    "# Vérification des valeurs manquantes\n",
    "if df.isnull().values.any():\n",
    "    print(\"Des valeurs manquantes ont été détectées.\")\n",
    "    # Gérer les valeurs manquantes - par exemple, les remplacer par la moyenne de la colonne\n",
    "    df.fillna(df.mean(), inplace=True)\n",
    "\n",
    "# Vérification des types de données et conversion si nécessaire\n",
    "df['datetime'] = pd.to_datetime(df['datetime'])\n",
    "\n",
    "# Vérification de la cohérence des données\n",
    "# Assurer que les concentrations de polluants sont dans des plages raisonnables\n",
    "pollutant_columns = ['pm2_5', 'pm10', 'o3', 'no2', 'so2', 'co']\n",
    "for column in pollutant_columns:\n",
    "    if df[column].min() < 0:\n",
    "        print(f\"Valeur négative détectée dans {column}.\")\n",
    "    # Fixer les valeurs négatives à 0 si nécessaire\n",
    "    df[column] = df[column].clip(lower=0)\n",
    "\n",
    "# Transformation : Agrégation des données par jour (moyenne journalière)\n",
    "df['date'] = df['datetime'].dt.date\n",
    "daily_df = df.groupby('date').agg({\n",
    "    'aqi': 'mean',\n",
    "    'pm2_5': 'mean',\n",
    "    'pm10': 'mean',\n",
    "    'o3': 'mean',\n",
    "    'no2': 'mean',\n",
    "    'so2': 'mean',\n",
    "    'co': 'mean'\n",
    "}).reset_index()\n",
    "\n",
    "# Sauvegarder le DataFrame nettoyé et transformé\n",
    "daily_df.to_csv('pollution_data_cleaned.csv', index=False)\n",
    "print(\"Données nettoyées et transformées sauvegardées dans 'pollution_data_cleaned.csv'\")"
   ]
  }
 ],
 "metadata": {
  "kernelspec": {
   "display_name": "Python 3",
   "language": "python",
   "name": "python3"
  },
  "language_info": {
   "codemirror_mode": {
    "name": "ipython",
    "version": 3
   },
   "file_extension": ".py",
   "mimetype": "text/x-python",
   "name": "python",
   "nbconvert_exporter": "python",
   "pygments_lexer": "ipython3",
   "version": "3.12.4"
  }
 },
 "nbformat": 4,
 "nbformat_minor": 2
}
