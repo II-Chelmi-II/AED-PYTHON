{
 "cells": [
  {
   "cell_type": "code",
   "execution_count": 1,
   "metadata": {},
   "outputs": [
    {
     "name": "stdout",
     "output_type": "stream",
     "text": [
      "Données sauvegardées dans 'pollution_data.csv'\n"
     ]
    }
   ],
   "source": [
    "import requests\n",
    "import pandas as pd\n",
    "import json\n",
    "\n",
    "# URL de l'API\n",
    "url = \"http://api.openweathermap.org/data/2.5/air_pollution/history\"\n",
    "params = {\n",
    "    'lat': -23.715639,      # Latitude\n",
    "    'lon': -46.704948,      # Longitude\n",
    "    'start': 1690848000,    # Timestamp de début\n",
    "    'end': 1691193600,      # Timestamp de fin\n",
    "    'appid': 'b8b7ae590ae89b2539ac197e7146ea20'  # clé API\n",
    "}\n",
    "\n",
    "# Appel API\n",
    "response = requests.get(url, params=params)\n",
    "\n",
    "# Vérification du statut de la réponse\n",
    "if response.status_code == 200:\n",
    "    data = response.json()\n",
    "\n",
    "    # Extraire les données pertinentes\n",
    "    pollution_data = []\n",
    "    for record in data.get('list', []):\n",
    "        pollution_entry = {\n",
    "            'datetime': pd.to_datetime(record['dt'], unit='s'),\n",
    "            'aqi': record['main']['aqi'],\n",
    "            'pm2_5': record['components']['pm2_5'],\n",
    "            'pm10': record['components']['pm10'],\n",
    "            'o3': record['components']['o3'],\n",
    "            'no2': record['components']['no2'],\n",
    "            'so2': record['components']['so2'],\n",
    "            'co': record['components']['co']\n",
    "        }\n",
    "        pollution_data.append(pollution_entry)\n",
    "\n",
    "    # Conversion en DataFrame\n",
    "    df = pd.DataFrame(pollution_data)\n",
    "\n",
    "    # Sauvegarder en CSV\n",
    "    df.to_csv('pollution_data.csv', index=False)\n",
    "    print(\"Données sauvegardées dans 'pollution_data.csv'\")\n",
    "else:\n",
    "    print(f\"Erreur lors de l'appel API: {response.status_code}\")"
   ]
  }
 ],
 "metadata": {
  "kernelspec": {
   "display_name": "Python 3",
   "language": "python",
   "name": "python3"
  },
  "language_info": {
   "codemirror_mode": {
    "name": "ipython",
    "version": 3
   },
   "file_extension": ".py",
   "mimetype": "text/x-python",
   "name": "python",
   "nbconvert_exporter": "python",
   "pygments_lexer": "ipython3",
   "version": "3.12.4"
  }
 },
 "nbformat": 4,
 "nbformat_minor": 2
}
