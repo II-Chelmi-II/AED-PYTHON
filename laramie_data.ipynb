{
 "cells": [
  {
   "cell_type": "code",
   "execution_count": 1,
   "metadata": {},
   "outputs": [
    {
     "name": "stdout",
     "output_type": "stream",
     "text": [
      "Données sauvegardées dans 'pollution_data_20240810.csv'\n"
     ]
    }
   ],
   "source": [
    "import os\n",
    "import requests\n",
    "import pandas as pd\n",
    "from datetime import datetime\n",
    "\n",
    "# Fonction pour récupérer et stocker les données de pollution actuelles\n",
    "def collect_air_pollution_data(lat, lon, api_key):\n",
    "    url = \"http://api.openweathermap.org/data/2.5/air_pollution\"\n",
    "    params = {\n",
    "        'lat': lat,\n",
    "        'lon': lon,\n",
    "        'appid': api_key\n",
    "    }\n",
    "    \n",
    "    response = requests.get(url, params=params)\n",
    "\n",
    "    if response.status_code == 200:\n",
    "        data = response.json()\n",
    "\n",
    "        # Extraire les données pertinentes\n",
    "        pollution_entry = {\n",
    "            'datetime': pd.to_datetime(datetime.now()),\n",
    "            'aqi': data['list'][0]['main']['aqi'],\n",
    "            'pm2_5': data['list'][0]['components']['pm2_5'],\n",
    "            'pm10': data['list'][0]['components']['pm10'],\n",
    "            'o3': data['list'][0]['components']['o3'],\n",
    "            'no2': data['list'][0]['components']['no2'],\n",
    "            'so2': data['list'][0]['components']['so2'],\n",
    "            'co': data['list'][0]['components']['co']\n",
    "        }\n",
    "\n",
    "        # Conversion en DataFrame\n",
    "        df = pd.DataFrame([pollution_entry])\n",
    "\n",
    "        # Création d'un nom de fichier basé sur la date actuelle\n",
    "        date_str = datetime.now().strftime(\"%Y%m%d\")\n",
    "        filename = f'pollution_data_{date_str}.csv'\n",
    "        folder = 'pollution_data'\n",
    "        os.makedirs(folder, exist_ok=True)  # Crée le dossier s'il n'existe pas\n",
    "\n",
    "        # Sauvegarder en CSV\n",
    "        df.to_csv(os.path.join(folder, filename), mode='a', header=not os.path.exists(os.path.join(folder, filename)), index=False)\n",
    "        print(f\"Données sauvegardées dans '{filename}'\")\n",
    "    else:\n",
    "        print(f\"Erreur lors de l'appel API: {response.status_code}\")\n",
    "        print(response.text)\n",
    "\n",
    "# Paramètres pour l'appel API\n",
    "lat = 41.2737321  # Latitude pour Laramie, WY\n",
    "lon = -104.7268231  # Longitude pour Laramie, WY\n",
    "api_key = 'b8b7ae590ae89b2539ac197e7146ea20'\n",
    "\n",
    "# Collecte des données actuelles\n",
    "collect_air_pollution_data(lat, lon, api_key)"
   ]
  }
 ],
 "metadata": {
  "kernelspec": {
   "display_name": "Python 3",
   "language": "python",
   "name": "python3"
  },
  "language_info": {
   "codemirror_mode": {
    "name": "ipython",
    "version": 3
   },
   "file_extension": ".py",
   "mimetype": "text/x-python",
   "name": "python",
   "nbconvert_exporter": "python",
   "pygments_lexer": "ipython3",
   "version": "3.12.4"
  }
 },
 "nbformat": 4,
 "nbformat_minor": 2
}
